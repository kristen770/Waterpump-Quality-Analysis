{
 "cells": [
  {
   "cell_type": "markdown",
   "metadata": {},
   "source": [
    "**<center><font size=\"15\">Water Meter Dataset Initial Analysis</font><center>**\n",
    "\n",
    "<center><font size=\"5\">Prepared by Kristen Davis for WSO Interview Round 1</font><center>"
   ]
  },
  {
   "cell_type": "markdown",
   "metadata": {},
   "source": [
    "## Libraries and Data Initialization \n",
    "Libraries, packages and data used in analysis "
   ]
  },
  {
   "cell_type": "code",
   "execution_count": 22,
   "metadata": {},
   "outputs": [],
   "source": [
    "#libraries\n",
    "import pandas as pd"
   ]
  },
  {
   "cell_type": "code",
   "execution_count": 23,
   "metadata": {},
   "outputs": [
    {
     "data": {
      "text/html": [
       "<div>\n",
       "<style scoped>\n",
       "    .dataframe tbody tr th:only-of-type {\n",
       "        vertical-align: middle;\n",
       "    }\n",
       "\n",
       "    .dataframe tbody tr th {\n",
       "        vertical-align: top;\n",
       "    }\n",
       "\n",
       "    .dataframe thead th {\n",
       "        text-align: right;\n",
       "    }\n",
       "</style>\n",
       "<table border=\"1\" class=\"dataframe\">\n",
       "  <thead>\n",
       "    <tr style=\"text-align: right;\">\n",
       "      <th></th>\n",
       "      <th>meterID</th>\n",
       "      <th>testYear</th>\n",
       "      <th>installationYear</th>\n",
       "      <th>meterSize</th>\n",
       "      <th>meterMake</th>\n",
       "      <th>accuracy</th>\n",
       "    </tr>\n",
       "  </thead>\n",
       "  <tbody>\n",
       "    <tr>\n",
       "      <th>0</th>\n",
       "      <td>35826455</td>\n",
       "      <td>2019</td>\n",
       "      <td>1991</td>\n",
       "      <td>5/8</td>\n",
       "      <td>NEPTUNE</td>\n",
       "      <td>98.72%</td>\n",
       "    </tr>\n",
       "    <tr>\n",
       "      <th>1</th>\n",
       "      <td>85381440</td>\n",
       "      <td>2018</td>\n",
       "      <td>2007</td>\n",
       "      <td>5/8</td>\n",
       "      <td>NEPTUNE</td>\n",
       "      <td>0.00%</td>\n",
       "    </tr>\n",
       "    <tr>\n",
       "      <th>2</th>\n",
       "      <td>43165289</td>\n",
       "      <td>2019</td>\n",
       "      <td>1997</td>\n",
       "      <td>5/8</td>\n",
       "      <td>NEPTUNE</td>\n",
       "      <td>98.95%</td>\n",
       "    </tr>\n",
       "    <tr>\n",
       "      <th>3</th>\n",
       "      <td>42947481</td>\n",
       "      <td>2019</td>\n",
       "      <td>1997</td>\n",
       "      <td>5/8</td>\n",
       "      <td>NEPTUNE</td>\n",
       "      <td>99.86%</td>\n",
       "    </tr>\n",
       "    <tr>\n",
       "      <th>4</th>\n",
       "      <td>18432485</td>\n",
       "      <td>2019</td>\n",
       "      <td>2002</td>\n",
       "      <td>5/8</td>\n",
       "      <td>BADGER</td>\n",
       "      <td>99.85%</td>\n",
       "    </tr>\n",
       "  </tbody>\n",
       "</table>\n",
       "</div>"
      ],
      "text/plain": [
       "    meterID  testYear  installationYear meterSize meterMake accuracy\n",
       "0  35826455      2019              1991       5/8   NEPTUNE   98.72%\n",
       "1  85381440      2018              2007       5/8   NEPTUNE    0.00%\n",
       "2  43165289      2019              1997       5/8   NEPTUNE   98.95%\n",
       "3  42947481      2019              1997       5/8   NEPTUNE   99.86%\n",
       "4  18432485      2019              2002       5/8    BADGER   99.85%"
      ]
     },
     "execution_count": 23,
     "metadata": {},
     "output_type": "execute_result"
    }
   ],
   "source": [
    "#primary dataset \n",
    "df = pd.read_csv(\"Data/WSO_Analyst_Example_Dataset.csv\") \n",
    "\n",
    "#sanity check \n",
    "df.head()"
   ]
  },
  {
   "cell_type": "code",
   "execution_count": 76,
   "metadata": {},
   "outputs": [
    {
     "data": {
      "text/html": [
       "<div>\n",
       "<style scoped>\n",
       "    .dataframe tbody tr th:only-of-type {\n",
       "        vertical-align: middle;\n",
       "    }\n",
       "\n",
       "    .dataframe tbody tr th {\n",
       "        vertical-align: top;\n",
       "    }\n",
       "\n",
       "    .dataframe thead th {\n",
       "        text-align: right;\n",
       "    }\n",
       "</style>\n",
       "<table border=\"1\" class=\"dataframe\">\n",
       "  <thead>\n",
       "    <tr style=\"text-align: right;\">\n",
       "      <th></th>\n",
       "      <th>Meter Make</th>\n",
       "      <th>Total 2019 Recorded Usage (CCF)</th>\n",
       "      <th>Count of Meters Currently in Service</th>\n",
       "    </tr>\n",
       "  </thead>\n",
       "  <tbody>\n",
       "    <tr>\n",
       "      <th>0</th>\n",
       "      <td>Badger</td>\n",
       "      <td>28,576,886</td>\n",
       "      <td>172,745</td>\n",
       "    </tr>\n",
       "    <tr>\n",
       "      <th>1</th>\n",
       "      <td>Neptune</td>\n",
       "      <td>23,316,556</td>\n",
       "      <td>166,182</td>\n",
       "    </tr>\n",
       "    <tr>\n",
       "      <th>2</th>\n",
       "      <td>Trident</td>\n",
       "      <td>2,094,991</td>\n",
       "      <td>13,897</td>\n",
       "    </tr>\n",
       "  </tbody>\n",
       "</table>\n",
       "</div>"
      ],
      "text/plain": [
       "  Meter Make Total 2019 Recorded Usage (CCF)  \\\n",
       "0     Badger                      28,576,886   \n",
       "1    Neptune                      23,316,556   \n",
       "2    Trident                       2,094,991   \n",
       "\n",
       "  Count of Meters Currently in Service  \n",
       "0                              172,745  \n",
       "1                              166,182  \n",
       "2                               13,897  "
      ]
     },
     "execution_count": 76,
     "metadata": {},
     "output_type": "execute_result"
    }
   ],
   "source": [
    "#customre dataset \n",
    "cdf = pd.read_csv(\"Data/Summary_Customer_Usage.csv\") \n",
    "\n",
    "#sanity check \n",
    "cdf.head()"
   ]
  },
  {
   "cell_type": "markdown",
   "metadata": {},
   "source": [
    "## Meta EDA & Data Manipulation\n",
    "Generalized metrics, statistics, and column based data manipulation (as needed)"
   ]
  },
  {
   "cell_type": "code",
   "execution_count": 24,
   "metadata": {},
   "outputs": [
    {
     "data": {
      "text/html": [
       "<div>\n",
       "<style scoped>\n",
       "    .dataframe tbody tr th:only-of-type {\n",
       "        vertical-align: middle;\n",
       "    }\n",
       "\n",
       "    .dataframe tbody tr th {\n",
       "        vertical-align: top;\n",
       "    }\n",
       "\n",
       "    .dataframe thead th {\n",
       "        text-align: right;\n",
       "    }\n",
       "</style>\n",
       "<table border=\"1\" class=\"dataframe\">\n",
       "  <thead>\n",
       "    <tr style=\"text-align: right;\">\n",
       "      <th></th>\n",
       "      <th>testYear</th>\n",
       "      <th>installationYear</th>\n",
       "    </tr>\n",
       "  </thead>\n",
       "  <tbody>\n",
       "    <tr>\n",
       "      <th>count</th>\n",
       "      <td>1962.000000</td>\n",
       "      <td>1962.000000</td>\n",
       "    </tr>\n",
       "    <tr>\n",
       "      <th>mean</th>\n",
       "      <td>2018.537207</td>\n",
       "      <td>1997.147299</td>\n",
       "    </tr>\n",
       "    <tr>\n",
       "      <th>std</th>\n",
       "      <td>0.522704</td>\n",
       "      <td>14.305625</td>\n",
       "    </tr>\n",
       "    <tr>\n",
       "      <th>min</th>\n",
       "      <td>2018.000000</td>\n",
       "      <td>1941.000000</td>\n",
       "    </tr>\n",
       "    <tr>\n",
       "      <th>25%</th>\n",
       "      <td>2018.000000</td>\n",
       "      <td>1994.000000</td>\n",
       "    </tr>\n",
       "    <tr>\n",
       "      <th>50%</th>\n",
       "      <td>2019.000000</td>\n",
       "      <td>2000.000000</td>\n",
       "    </tr>\n",
       "    <tr>\n",
       "      <th>75%</th>\n",
       "      <td>2019.000000</td>\n",
       "      <td>2006.000000</td>\n",
       "    </tr>\n",
       "    <tr>\n",
       "      <th>max</th>\n",
       "      <td>2020.000000</td>\n",
       "      <td>2019.000000</td>\n",
       "    </tr>\n",
       "  </tbody>\n",
       "</table>\n",
       "</div>"
      ],
      "text/plain": [
       "          testYear  installationYear\n",
       "count  1962.000000       1962.000000\n",
       "mean   2018.537207       1997.147299\n",
       "std       0.522704         14.305625\n",
       "min    2018.000000       1941.000000\n",
       "25%    2018.000000       1994.000000\n",
       "50%    2019.000000       2000.000000\n",
       "75%    2019.000000       2006.000000\n",
       "max    2020.000000       2019.000000"
      ]
     },
     "execution_count": 24,
     "metadata": {},
     "output_type": "execute_result"
    }
   ],
   "source": [
    "#descriptive statistics\n",
    "df.describe()"
   ]
  },
  {
   "cell_type": "code",
   "execution_count": 25,
   "metadata": {},
   "outputs": [
    {
     "data": {
      "text/plain": [
       "meterID             object\n",
       "testYear             int64\n",
       "installationYear     int64\n",
       "meterSize           object\n",
       "meterMake           object\n",
       "accuracy            object\n",
       "dtype: object"
      ]
     },
     "execution_count": 25,
     "metadata": {},
     "output_type": "execute_result"
    }
   ],
   "source": [
    "#data types  \n",
    "df.dtypes"
   ]
  },
  {
   "cell_type": "markdown",
   "metadata": {},
   "source": [
    "*Based on the initial describe results returning only 2 columns when I expected to see 4 (testYear, installationYear, meterSize & accuracy) I know that one of the first tasks needed will be to assign meterSize and accuracy to numerical column types. Dtypes confirms this.*"
   ]
  },
  {
   "cell_type": "code",
   "execution_count": 26,
   "metadata": {},
   "outputs": [
    {
     "data": {
      "text/plain": [
       "array(['5/8', '5/8\"', '1\"', '1', '5/8\" ', '3/4'], dtype=object)"
      ]
     },
     "execution_count": 26,
     "metadata": {},
     "output_type": "execute_result"
    }
   ],
   "source": [
    "#current types\n",
    "df['meterSize'].unique()"
   ]
  },
  {
   "cell_type": "code",
   "execution_count": 33,
   "metadata": {},
   "outputs": [],
   "source": [
    "#replace meterSize as a decimal \n",
    "df['meterSize'] = df['meterSize'].apply(lambda x: x.replace(\"5/8\", \"0.625\"))\n",
    "df['meterSize'] = df['meterSize'].apply(lambda x: x.replace(\"3/4\", \"0.75\")) \n",
    "\n",
    "#drop extra \" \n",
    "df['meterSize'] = df['meterSize'].apply(lambda x: x.strip('\" '))\n",
    "\n",
    "#cast column as float \n",
    "df['meterSize'] = df['meterSize'].astype(float)"
   ]
  },
  {
   "cell_type": "markdown",
   "metadata": {},
   "source": [
    "*The data dictionary notes measurements in inches. I will cast current fractions as ints 0.625 = 5/8th / 0.75 = 3/4th / 1 = 1*"
   ]
  },
  {
   "cell_type": "code",
   "execution_count": 36,
   "metadata": {
    "scrolled": true
   },
   "outputs": [
    {
     "data": {
      "text/plain": [
       "array(['98.72%', '0.00%', '98.95%', '99.86%', '99.85%', '98.66%',\n",
       "       '100.58%', '97.92%', '100.13%', '99.83%', '96.65%', '92.70%',\n",
       "       '98.80%', '84.28%', '98.93%', '98.23%', '97.72%', '80.24%',\n",
       "       '100.65%', '98.99%', '95.94%', '99.42%', '97.11%', '98.90%',\n",
       "       '97.60%', '99.00%', '99.77%', '99.92%', '100.04%', '98.61%',\n",
       "       '99.17%', '99.87%', '4.45%', '97.25%', '81.50%', '99.74%',\n",
       "       '97.88%', '100.10%', '99.78%', '100.44%', '94.13%', '99.19%',\n",
       "       '99.71%', '99.39%', '99.28%', '99.58%', '100.87%', '98.62%',\n",
       "       '96.08%', '100.05%', '100.11%', '99.31%', '98.78%', '98.29%',\n",
       "       '98.48%', '99.29%', '98.76%', '101.40%', '99.18%', '99.44%',\n",
       "       '100.62%', '99.24%', '99.91%', '100.22%', '98.49%', '99.88%',\n",
       "       '97.86%', '98.88%', '100.29%', '99.52%', '99.38%', '99.04%',\n",
       "       '99.32%', '90.47%', '96.73%', '99.80%', '99.45%', '99.25%',\n",
       "       '99.47%', '94.68%', '100.01%', '98.41%', '97.03%', '99.06%',\n",
       "       '84.33%', '99.82%', '100.56%', '100.06%', '82.72%', '100.42%',\n",
       "       '100.20%', '93.65%', '99.33%', '98.39%', '99.70%', '98.82%',\n",
       "       '100.63%', '99.13%', '93.40%', '99.56%', '95.50%', '86.24%',\n",
       "       '98.60%', '96.40%', '99.43%', '99.23%', '96.89%', '99.66%',\n",
       "       '99.81%', '98.81%', '99.69%', '98.08%', '97.99%', '96.66%',\n",
       "       '100.33%', '98.92%', '99.75%', '95.91%', '97.28%', '71.27%',\n",
       "       '100.77%', '99.72%', '93.79%', '99.49%', '99.05%', '98.00%',\n",
       "       '96.23%', '98.30%', '100.37%', '98.64%', '100.41%', '100.24%',\n",
       "       '99.54%', '78.83%', '100.73%', '88.52%', '1.05%', '100.25%',\n",
       "       '99.11%', '100.12%', '98.50%', '100.74%', '98.13%', '99.30%',\n",
       "       '84.82%', '95.45%', '99.37%', '93.99%', '98.11%', '98.14%',\n",
       "       '98.67%', '97.98%', '75.24%', '98.52%', '99.22%', '97.19%',\n",
       "       '91.83%', '99.67%', '99.07%', '94.55%', '98.34%', '97.13%',\n",
       "       '99.35%', '86.22%', '98.91%', '97.67%', '96.96%', '96.85%',\n",
       "       '99.79%', '92.55%', '84.54%', '98.55%', '95.04%', '98.58%',\n",
       "       '98.86%', '97.61%', '98.32%', '92.20%', '98.63%', '100.82%',\n",
       "       '100.26%', '96.01%', '100.71%', '99.27%', '99.90%', '101.48%',\n",
       "       '97.10%', '90.81%', '96.46%', '100.08%', '95.65%', '84.94%',\n",
       "       '101.59%', '100.16%', '98.89%', '98.84%', '97.87%', '98.94%',\n",
       "       '100.09%', '81.19%', '81.69%', '98.71%', '96.98%', '98.15%',\n",
       "       '95.66%', '78.13%', '99.21%', '84.48%', '99.46%', '100.53%',\n",
       "       '99.02%', '83.95%', '97.82%', '99.26%', '99.94%', '97.91%',\n",
       "       '98.28%', '99.65%', '97.01%', '85.29%', '98.79%', '21.69%',\n",
       "       '101.13%', '88.10%', '98.16%', '101.21%', '99.12%', '98.54%',\n",
       "       '102.03%', '99.63%', '98.18%', '97.22%', '101.15%', '98.20%',\n",
       "       '100.91%', '85.55%', '97.43%', '97.64%', '96.76%', '99.60%',\n",
       "       '82.00%', '101.36%', '94.67%', '98.96%', '99.62%', '98.25%',\n",
       "       '100.21%', '100.43%', '94.07%', '97.69%', '97.27%', '99.15%',\n",
       "       '100.67%', '95.54%', '98.38%', '100.83%', '99.09%', '91.22%',\n",
       "       '99.57%', '95.41%', '99.36%', '98.24%', '101.44%', '98.51%',\n",
       "       '98.06%', '100.23%', '101.30%', '100.51%', '76.34%', '84.17%',\n",
       "       '98.87%', '100.66%', '97.94%', '97.65%', '95.37%', '99.93%',\n",
       "       '99.84%', '99.01%', '99.10%', '98.44%', '98.56%', '98.69%',\n",
       "       '100.48%', '98.27%', '98.77%', '98.97%', '85.53%', '98.36%',\n",
       "       '98.46%', '94.36%', '85.22%', '97.24%', '98.59%', '96.58%',\n",
       "       '84.62%', '98.98%', '77.57%', '99.76%', '82.14%', '100.27%',\n",
       "       '86.39%', '99.73%', '95.46%', '99.40%', '98.75%', '98.68%',\n",
       "       '100.64%', '95.58%', '96.78%', '98.31%', '95.28%', '100.59%',\n",
       "       '99.14%', '98.53%', '97.20%', '84.95%', '99.97%', '100.36%',\n",
       "       '98.26%', '99.34%', '15.00%', '97.17%', '97.84%', '84.45%',\n",
       "       '100.03%', '97.78%', '99.59%', '97.63%', '96.74%', '89.14%',\n",
       "       '96.03%', '96.20%', '85.21%', '85.75%', '100.92%', '100.14%',\n",
       "       '100.02%', '0.01%', '98.35%', '99.89%', '97.32%', '99.41%',\n",
       "       '100.34%', '83.42%', '100.35%', '84.13%', '98.19%', '100.40%',\n",
       "       '97.80%', '88.99%', '98.83%', '99.48%', '99.61%', '97.76%',\n",
       "       '97.96%', '96.70%', '98.07%', '87.32%', '98.57%', '86.43%',\n",
       "       '99.96%', '100.98%', '98.17%', '87.08%', '99.95%', '-3.80%',\n",
       "       '101.45%', '95.63%', '101.41%', '93.44%', '96.29%', '85.65%',\n",
       "       '100.50%', '99.99%', '95.99%', '98.40%', '98.02%', '99.55%',\n",
       "       '101.35%', '85.77%', '82.98%', '94.03%', '92.16%', '85.98%',\n",
       "       '90.62%', '84.35%', '99.08%', '85.49%', '97.33%', '99.51%',\n",
       "       '90.84%', '91.32%', '89.76%', '98.65%', '89.23%', '100.72%',\n",
       "       '102.33%', '82.86%', '98.74%', '97.47%', '83.40%', '96.34%',\n",
       "       '40.76%', '97.51%', '97.77%', '78.74%', '84.40%', '101.09%',\n",
       "       '86.08%', '95.02%', '96.71%', '98.12%', '99.64%', '83.64%',\n",
       "       '89.20%', '97.12%', '82.38%', '100.54%', '94.33%', '99.20%',\n",
       "       '100.60%', '77.28%', '82.07%', '77.24%', '100.55%', '82.95%',\n",
       "       '100.18%', '98.42%', '101.94%', '97.42%', '40.85%', '97.04%',\n",
       "       '98.45%', '88.60%', '95.10%', '100.52%', '72.86%', '97.83%',\n",
       "       '96.59%', '100.80%', '97.57%', '92.38%', '15.12%', '99.98%',\n",
       "       '84.69%', '98.43%', '80.40%', '97.52%', '87.87%', '84.38%',\n",
       "       '96.21%', '82.01%', '95.83%', '96.33%', '97.15%', '97.75%',\n",
       "       '100.32%', '100.99%', '80.97%', '93.64%', '100.31%', '71.64%',\n",
       "       '98.21%', '14.97%', '86.44%', '102.35%', '95.62%', '98.04%',\n",
       "       '101.49%', '101.34%', '83.37%', '99.68%', '100.57%', '94.41%',\n",
       "       '86.18%', '94.28%', '85.37%', '83.39%', '30.53%', '95.47%',\n",
       "       '86.50%', '95.52%', '100.85%', '94.35%', '92.60%', '100.17%',\n",
       "       '101.23%', '92.35%', '98.73%', '83.16%', '97.36%', '94.30%',\n",
       "       '-3.87%', '101.10%', '101.89%', '78.62%', '97.35%', '97.46%',\n",
       "       '14.87%', '97.66%', '99.16%', '101.99%', '96.95%', '97.85%',\n",
       "       '100.93%', '95.19%', '97.97%', '98.85%', '82.74%', '83.25%',\n",
       "       '101.80%', '96.05%', '99.03%', '97.90%', '96.27%', '98.33%',\n",
       "       '94.56%', '97.71%', '95.86%', '84.79%', '81.47%', '100.45%',\n",
       "       '91.14%', '71.80%', '94.83%', '96.97%', '84.15%', '76.05%',\n",
       "       '100.94%', '82.58%', '100.84%', '100.00%', '26.30%', '74.73%',\n",
       "       '71.92%', '84.34%', '84.85%', '100.39%', '84.23%', '95.16%',\n",
       "       '85.10%', '94.48%', '102.02%', '95.23%', '95.93%', '101.61%',\n",
       "       '96.44%', '81.09%', '97.16%', '97.30%', '100.15%', '97.89%',\n",
       "       '83.98%', '-3.88%', '96.64%', '98.03%', '98.10%', '84.71%',\n",
       "       '91.90%', '-3.84%', '96.99%', '76.12%', '93.27%', '79.73%',\n",
       "       '97.68%', '101.19%', '99.50%', '100.19%', '97.49%', '95.43%',\n",
       "       '97.58%', '100.30%', '82.60%', '59.46%', '97.79%', '77.85%',\n",
       "       '97.14%', '100.88%', '96.93%', '-3.90%', '85.28%', '95.78%',\n",
       "       '96.45%', '93.37%', '101.24%', '84.43%', '97.62%', '96.81%',\n",
       "       '94.91%', '83.46%', '100.96%', '94.11%', '83.65%', '100.07%',\n",
       "       '14.70%', '85.57%', '92.66%', '85.69%', '85.52%', '-3.81%',\n",
       "       '99.53%', '85.34%', '100.89%', '82.36%', '101.02%', '100.46%',\n",
       "       '94.09%', '75.91%', '56.14%', '82.10%', '77.90%', '92.19%',\n",
       "       '87.77%', '82.83%', '101.04%', '96.75%', '20.84%', '90.87%',\n",
       "       '95.22%', '43.21%', '97.50%', '55.21%', '102.17%', '92.31%',\n",
       "       '24.50%', '82.89%', '94.93%', '91.17%', '42.93%', '101.86%',\n",
       "       '95.71%', '86.59%', '0.08%', '94.00%', '97.44%', '83.57%',\n",
       "       '93.22%', '95.14%', '89.74%', '98.37%', '95.74%', '101.79%',\n",
       "       '97.31%', '83.69%', '83.41%', '97.59%', '84.36%', '80.18%',\n",
       "       '86.53%', '87.05%', '79.09%', '95.72%', '94.99%', '92.07%',\n",
       "       '85.56%', '87.09%', '91.91%', '77.70%', '90.63%', '18.81%',\n",
       "       '84.44%', '96.82%', '101.55%', '100.76%', '93.63%', '95.81%',\n",
       "       '97.81%', '94.49%', '95.95%', '85.04%', '21.00%', '97.39%',\n",
       "       '101.62%', '90.98%', '95.70%', '96.41%', '100.86%', '91.38%',\n",
       "       '97.21%', '92.74%', '96.52%', '97.73%', '94.53%', '85.61%',\n",
       "       '97.74%', '93.81%', '84.91%', '83.11%', '83.90%', '91.49%',\n",
       "       '97.70%', '97.55%', '97.56%', '96.43%', '101.76%', '85.89%',\n",
       "       '86.92%', '92.34%'], dtype=object)"
      ]
     },
     "execution_count": 36,
     "metadata": {},
     "output_type": "execute_result"
    }
   ],
   "source": [
    "#current types\n",
    "df['accuracy'].unique()"
   ]
  },
  {
   "cell_type": "code",
   "execution_count": 38,
   "metadata": {},
   "outputs": [],
   "source": [
    "#drop % \n",
    "df['accuracy'] = df['accuracy'].apply(lambda x: x.strip('%')) \n",
    "\n",
    "#cast column as float \n",
    "df['accuracy'] = df['accuracy'].astype(float)"
   ]
  },
  {
   "cell_type": "markdown",
   "metadata": {},
   "source": [
    "*Percentages show that some values over 100 and some in negative these are going to be interesting to explore later for now I am just casting as straight float above 100 would be greater than 100%.*"
   ]
  },
  {
   "cell_type": "code",
   "execution_count": 63,
   "metadata": {},
   "outputs": [
    {
     "data": {
      "text/plain": [
       "meterID              object\n",
       "testYear              int64\n",
       "installationYear      int64\n",
       "meterSize           float64\n",
       "meterMake            object\n",
       "accuracy            float64\n",
       "dtype: object"
      ]
     },
     "execution_count": 63,
     "metadata": {},
     "output_type": "execute_result"
    }
   ],
   "source": [
    "#sanity check \n",
    "df.dtypes"
   ]
  },
  {
   "cell_type": "markdown",
   "metadata": {},
   "source": [
    "*Next check any NAN values*"
   ]
  },
  {
   "cell_type": "code",
   "execution_count": 64,
   "metadata": {},
   "outputs": [
    {
     "data": {
      "text/plain": [
       "meterID             2\n",
       "testYear            0\n",
       "installationYear    0\n",
       "meterSize           0\n",
       "meterMake           0\n",
       "accuracy            0\n",
       "dtype: int64"
      ]
     },
     "execution_count": 64,
     "metadata": {},
     "output_type": "execute_result"
    }
   ],
   "source": [
    "#null check\n",
    "df.isna().sum()"
   ]
  },
  {
   "cell_type": "code",
   "execution_count": 67,
   "metadata": {},
   "outputs": [
    {
     "data": {
      "text/html": [
       "<div>\n",
       "<style scoped>\n",
       "    .dataframe tbody tr th:only-of-type {\n",
       "        vertical-align: middle;\n",
       "    }\n",
       "\n",
       "    .dataframe tbody tr th {\n",
       "        vertical-align: top;\n",
       "    }\n",
       "\n",
       "    .dataframe thead th {\n",
       "        text-align: right;\n",
       "    }\n",
       "</style>\n",
       "<table border=\"1\" class=\"dataframe\">\n",
       "  <thead>\n",
       "    <tr style=\"text-align: right;\">\n",
       "      <th></th>\n",
       "      <th>meterID</th>\n",
       "      <th>testYear</th>\n",
       "      <th>installationYear</th>\n",
       "      <th>meterSize</th>\n",
       "      <th>meterMake</th>\n",
       "      <th>accuracy</th>\n",
       "    </tr>\n",
       "  </thead>\n",
       "  <tbody>\n",
       "    <tr>\n",
       "      <th>160</th>\n",
       "      <td>NaN</td>\n",
       "      <td>2018</td>\n",
       "      <td>2002</td>\n",
       "      <td>0.625</td>\n",
       "      <td>BADGER</td>\n",
       "      <td>98.64</td>\n",
       "    </tr>\n",
       "    <tr>\n",
       "      <th>221</th>\n",
       "      <td>NaN</td>\n",
       "      <td>2018</td>\n",
       "      <td>1990</td>\n",
       "      <td>0.625</td>\n",
       "      <td>BADGER</td>\n",
       "      <td>98.58</td>\n",
       "    </tr>\n",
       "  </tbody>\n",
       "</table>\n",
       "</div>"
      ],
      "text/plain": [
       "    meterID  testYear  installationYear  meterSize meterMake  accuracy\n",
       "160     NaN      2018              2002      0.625    BADGER     98.64\n",
       "221     NaN      2018              1990      0.625    BADGER     98.58"
      ]
     },
     "execution_count": 67,
     "metadata": {},
     "output_type": "execute_result"
    }
   ],
   "source": [
    "#view the nans\n",
    "df[df.isnull().any(axis=1)]"
   ]
  },
  {
   "cell_type": "markdown",
   "metadata": {},
   "source": [
    "*Without a meterID (unique identifier there is no way to note which meter's these are. Since the NaNs in the dataset are only 2 of 1,962 total rows it represents only a very small percent of the dataset. With greater familiarity with the number convention you could perhaps assign these two new (stand in) numbers but for this exercise I feel time will be better spent exploring - so will drop and move on*"
   ]
  },
  {
   "cell_type": "code",
   "execution_count": 72,
   "metadata": {},
   "outputs": [],
   "source": [
    "#drop nans \n",
    "df.dropna(inplace=True)"
   ]
  },
  {
   "cell_type": "code",
   "execution_count": 73,
   "metadata": {},
   "outputs": [
    {
     "data": {
      "text/plain": [
       "meterID             0\n",
       "testYear            0\n",
       "installationYear    0\n",
       "meterSize           0\n",
       "meterMake           0\n",
       "accuracy            0\n",
       "dtype: int64"
      ]
     },
     "execution_count": 73,
     "metadata": {},
     "output_type": "execute_result"
    }
   ],
   "source": [
    "#sanity check\n",
    "df.isna().sum()"
   ]
  },
  {
   "cell_type": "code",
   "execution_count": 74,
   "metadata": {},
   "outputs": [
    {
     "data": {
      "text/html": [
       "<div>\n",
       "<style scoped>\n",
       "    .dataframe tbody tr th:only-of-type {\n",
       "        vertical-align: middle;\n",
       "    }\n",
       "\n",
       "    .dataframe tbody tr th {\n",
       "        vertical-align: top;\n",
       "    }\n",
       "\n",
       "    .dataframe thead th {\n",
       "        text-align: right;\n",
       "    }\n",
       "</style>\n",
       "<table border=\"1\" class=\"dataframe\">\n",
       "  <thead>\n",
       "    <tr style=\"text-align: right;\">\n",
       "      <th></th>\n",
       "      <th>testYear</th>\n",
       "      <th>installationYear</th>\n",
       "      <th>meterSize</th>\n",
       "      <th>accuracy</th>\n",
       "    </tr>\n",
       "  </thead>\n",
       "  <tbody>\n",
       "    <tr>\n",
       "      <th>count</th>\n",
       "      <td>1960.000000</td>\n",
       "      <td>1960.000000</td>\n",
       "      <td>1960.000000</td>\n",
       "      <td>1960.000000</td>\n",
       "    </tr>\n",
       "    <tr>\n",
       "      <th>mean</th>\n",
       "      <td>2018.537755</td>\n",
       "      <td>1997.148469</td>\n",
       "      <td>0.632270</td>\n",
       "      <td>95.716459</td>\n",
       "    </tr>\n",
       "    <tr>\n",
       "      <th>std</th>\n",
       "      <td>0.522689</td>\n",
       "      <td>14.311595</td>\n",
       "      <td>0.051255</td>\n",
       "      <td>13.841620</td>\n",
       "    </tr>\n",
       "    <tr>\n",
       "      <th>min</th>\n",
       "      <td>2018.000000</td>\n",
       "      <td>1941.000000</td>\n",
       "      <td>0.625000</td>\n",
       "      <td>-3.900000</td>\n",
       "    </tr>\n",
       "    <tr>\n",
       "      <th>25%</th>\n",
       "      <td>2018.000000</td>\n",
       "      <td>1994.000000</td>\n",
       "      <td>0.625000</td>\n",
       "      <td>97.910000</td>\n",
       "    </tr>\n",
       "    <tr>\n",
       "      <th>50%</th>\n",
       "      <td>2019.000000</td>\n",
       "      <td>2000.000000</td>\n",
       "      <td>0.625000</td>\n",
       "      <td>99.030000</td>\n",
       "    </tr>\n",
       "    <tr>\n",
       "      <th>75%</th>\n",
       "      <td>2019.000000</td>\n",
       "      <td>2006.000000</td>\n",
       "      <td>0.625000</td>\n",
       "      <td>99.780000</td>\n",
       "    </tr>\n",
       "    <tr>\n",
       "      <th>max</th>\n",
       "      <td>2020.000000</td>\n",
       "      <td>2019.000000</td>\n",
       "      <td>1.000000</td>\n",
       "      <td>102.350000</td>\n",
       "    </tr>\n",
       "  </tbody>\n",
       "</table>\n",
       "</div>"
      ],
      "text/plain": [
       "          testYear  installationYear    meterSize     accuracy\n",
       "count  1960.000000       1960.000000  1960.000000  1960.000000\n",
       "mean   2018.537755       1997.148469     0.632270    95.716459\n",
       "std       0.522689         14.311595     0.051255    13.841620\n",
       "min    2018.000000       1941.000000     0.625000    -3.900000\n",
       "25%    2018.000000       1994.000000     0.625000    97.910000\n",
       "50%    2019.000000       2000.000000     0.625000    99.030000\n",
       "75%    2019.000000       2006.000000     0.625000    99.780000\n",
       "max    2020.000000       2019.000000     1.000000   102.350000"
      ]
     },
     "execution_count": 74,
     "metadata": {},
     "output_type": "execute_result"
    }
   ],
   "source": [
    "#descriptive statistics\n",
    "df.describe()"
   ]
  },
  {
   "cell_type": "markdown",
   "metadata": {},
   "source": [
    "Overall working data comprises of:\n",
    "* 1,960 rows\n",
    "* 6 columns (5 + 1 identifier)  \n",
    "* 4 numeric columns - meterSize & testYear & InstallationYear categorical / accuracy continuous  \n",
    "* 1 string column meterMake categorical\n",
    "\n",
    "Numeric Column Insights\n",
    "* testYear - ranges from 2018 - 2020 mean\n",
    "* installationYear - ranges from 1941 - 2019 with the mean meaning 1997 (long tail data)\n",
    "* meterSize - ranges from 0.625 (5/8th of an inch) to 1 inch average is slightly bigger than 5/8th of an inch so they trend small  \n",
    "* accuracy - ranges from -3.9 to 102.35. Mean is 95.72 so a large portion of the meter's are measuring at above 95% accurate. "
   ]
  },
  {
   "cell_type": "markdown",
   "metadata": {},
   "source": [
    "*Walking through the descriptive statistics helps me get a big picture of the the dataset and begin brainstorming where I want to go next with the data. Current thoughts:* \n",
    "* *accuracy - this is the number of gallons out of 100 gallon sample that would be read correctly. Above 100 should be flagged as inaccurate*\n",
    "* *what is the cost per gallon? bring in outside data to understand revenue loss here* \n",
    "* *installationYear being low correlated to lower accuracy?* \n",
    "* *meterSize have any affect on accuracy?*\n",
    "* *do the meter ids have any geographical correlation?* \n",
    "* *what is the total spent replacing per year per brand?* \n",
    "* *what is the correlation between accuracy and brand?* \n",
    "* *what is the correlation between installationYear and brand?*  \n",
    "* *within a brand what sizes 'work' best?* "
   ]
  },
  {
   "cell_type": "markdown",
   "metadata": {},
   "source": [
    "# Data To Dos\n",
    "* *accuracy - this is the number of gallons out of 100 gallon sample that would be read correctly. Above 100 should be flagged as inaccurate*\n",
    "* *what is the cost per gallon? bring in outside data to understand revenue loss here* \n",
    "* *installationYear being low correlated to lower accuracy?* \n",
    "* *meterSize have any affect on accuracy?*\n",
    "* *do the meter ids have any geographical correlation?* \n",
    "* *what is the total spent replacing per year per brand?* \n",
    "* *what is the correlation between accuracy and brand?* \n",
    "* *what is the correlation between installationYear and brand?*  \n",
    "* *within a brand what sizes 'work' best?*"
   ]
  },
  {
   "cell_type": "code",
   "execution_count": null,
   "metadata": {},
   "outputs": [],
   "source": []
  }
 ],
 "metadata": {
  "kernelspec": {
   "display_name": "Python 3",
   "language": "python",
   "name": "python3"
  },
  "language_info": {
   "codemirror_mode": {
    "name": "ipython",
    "version": 3
   },
   "file_extension": ".py",
   "mimetype": "text/x-python",
   "name": "python",
   "nbconvert_exporter": "python",
   "pygments_lexer": "ipython3",
   "version": "3.8.3"
  },
  "toc": {
   "base_numbering": 1,
   "nav_menu": {},
   "number_sections": true,
   "sideBar": true,
   "skip_h1_title": false,
   "title_cell": "Table of Contents",
   "title_sidebar": "Contents",
   "toc_cell": false,
   "toc_position": {},
   "toc_section_display": true,
   "toc_window_display": false
  }
 },
 "nbformat": 4,
 "nbformat_minor": 4
}
