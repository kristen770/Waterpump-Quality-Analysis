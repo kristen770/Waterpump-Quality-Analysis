{
 "cells": [
  {
   "cell_type": "markdown",
   "metadata": {},
   "source": [
    "**<center><font size=\"15\">Water Meter Dataset Initial Analysis</font><center>**\n",
    "\n",
    "<center><font size=\"5\">Prepared by Kristen Davis for WSO Interview Round 1</font><center>"
   ]
  },
  {
   "cell_type": "markdown",
   "metadata": {},
   "source": [
    "## Libraries and Data Initialization \n",
    "Libraries, packages and data used in analysis "
   ]
  },
  {
   "cell_type": "code",
   "execution_count": 2,
   "metadata": {},
   "outputs": [],
   "source": [
    "#libraries\n",
    "import pandas as pd"
   ]
  },
  {
   "cell_type": "code",
   "execution_count": 5,
   "metadata": {},
   "outputs": [
    {
     "data": {
      "text/html": [
       "<div>\n",
       "<style scoped>\n",
       "    .dataframe tbody tr th:only-of-type {\n",
       "        vertical-align: middle;\n",
       "    }\n",
       "\n",
       "    .dataframe tbody tr th {\n",
       "        vertical-align: top;\n",
       "    }\n",
       "\n",
       "    .dataframe thead th {\n",
       "        text-align: right;\n",
       "    }\n",
       "</style>\n",
       "<table border=\"1\" class=\"dataframe\">\n",
       "  <thead>\n",
       "    <tr style=\"text-align: right;\">\n",
       "      <th></th>\n",
       "      <th>meterID</th>\n",
       "      <th>testYear</th>\n",
       "      <th>installationYear</th>\n",
       "      <th>meterSize</th>\n",
       "      <th>meterMake</th>\n",
       "      <th>accuracy</th>\n",
       "    </tr>\n",
       "  </thead>\n",
       "  <tbody>\n",
       "    <tr>\n",
       "      <th>0</th>\n",
       "      <td>35826455</td>\n",
       "      <td>2019</td>\n",
       "      <td>1991</td>\n",
       "      <td>5/8</td>\n",
       "      <td>NEPTUNE</td>\n",
       "      <td>98.72%</td>\n",
       "    </tr>\n",
       "    <tr>\n",
       "      <th>1</th>\n",
       "      <td>85381440</td>\n",
       "      <td>2018</td>\n",
       "      <td>2007</td>\n",
       "      <td>5/8</td>\n",
       "      <td>NEPTUNE</td>\n",
       "      <td>0.00%</td>\n",
       "    </tr>\n",
       "    <tr>\n",
       "      <th>2</th>\n",
       "      <td>43165289</td>\n",
       "      <td>2019</td>\n",
       "      <td>1997</td>\n",
       "      <td>5/8</td>\n",
       "      <td>NEPTUNE</td>\n",
       "      <td>98.95%</td>\n",
       "    </tr>\n",
       "    <tr>\n",
       "      <th>3</th>\n",
       "      <td>42947481</td>\n",
       "      <td>2019</td>\n",
       "      <td>1997</td>\n",
       "      <td>5/8</td>\n",
       "      <td>NEPTUNE</td>\n",
       "      <td>99.86%</td>\n",
       "    </tr>\n",
       "    <tr>\n",
       "      <th>4</th>\n",
       "      <td>18432485</td>\n",
       "      <td>2019</td>\n",
       "      <td>2002</td>\n",
       "      <td>5/8</td>\n",
       "      <td>BADGER</td>\n",
       "      <td>99.85%</td>\n",
       "    </tr>\n",
       "  </tbody>\n",
       "</table>\n",
       "</div>"
      ],
      "text/plain": [
       "    meterID  testYear  installationYear meterSize meterMake accuracy\n",
       "0  35826455      2019              1991       5/8   NEPTUNE   98.72%\n",
       "1  85381440      2018              2007       5/8   NEPTUNE    0.00%\n",
       "2  43165289      2019              1997       5/8   NEPTUNE   98.95%\n",
       "3  42947481      2019              1997       5/8   NEPTUNE   99.86%\n",
       "4  18432485      2019              2002       5/8    BADGER   99.85%"
      ]
     },
     "execution_count": 5,
     "metadata": {},
     "output_type": "execute_result"
    }
   ],
   "source": [
    "#dataset \n",
    "df = pd.read_csv(\"Data/WSO_Analyst_Example_Dataset.csv\") \n",
    "\n",
    "#sanity check \n",
    "df.head()"
   ]
  },
  {
   "cell_type": "markdown",
   "metadata": {},
   "source": [
    "## Meta EDA & Data Manipulation\n",
    "Generalized metrics, statistics, and column based data manipulation (as needed)"
   ]
  },
  {
   "cell_type": "code",
   "execution_count": 8,
   "metadata": {},
   "outputs": [
    {
     "data": {
      "text/html": [
       "<div>\n",
       "<style scoped>\n",
       "    .dataframe tbody tr th:only-of-type {\n",
       "        vertical-align: middle;\n",
       "    }\n",
       "\n",
       "    .dataframe tbody tr th {\n",
       "        vertical-align: top;\n",
       "    }\n",
       "\n",
       "    .dataframe thead th {\n",
       "        text-align: right;\n",
       "    }\n",
       "</style>\n",
       "<table border=\"1\" class=\"dataframe\">\n",
       "  <thead>\n",
       "    <tr style=\"text-align: right;\">\n",
       "      <th></th>\n",
       "      <th>testYear</th>\n",
       "      <th>installationYear</th>\n",
       "    </tr>\n",
       "  </thead>\n",
       "  <tbody>\n",
       "    <tr>\n",
       "      <th>count</th>\n",
       "      <td>1962.000000</td>\n",
       "      <td>1962.000000</td>\n",
       "    </tr>\n",
       "    <tr>\n",
       "      <th>mean</th>\n",
       "      <td>2018.537207</td>\n",
       "      <td>1997.147299</td>\n",
       "    </tr>\n",
       "    <tr>\n",
       "      <th>std</th>\n",
       "      <td>0.522704</td>\n",
       "      <td>14.305625</td>\n",
       "    </tr>\n",
       "    <tr>\n",
       "      <th>min</th>\n",
       "      <td>2018.000000</td>\n",
       "      <td>1941.000000</td>\n",
       "    </tr>\n",
       "    <tr>\n",
       "      <th>25%</th>\n",
       "      <td>2018.000000</td>\n",
       "      <td>1994.000000</td>\n",
       "    </tr>\n",
       "    <tr>\n",
       "      <th>50%</th>\n",
       "      <td>2019.000000</td>\n",
       "      <td>2000.000000</td>\n",
       "    </tr>\n",
       "    <tr>\n",
       "      <th>75%</th>\n",
       "      <td>2019.000000</td>\n",
       "      <td>2006.000000</td>\n",
       "    </tr>\n",
       "    <tr>\n",
       "      <th>max</th>\n",
       "      <td>2020.000000</td>\n",
       "      <td>2019.000000</td>\n",
       "    </tr>\n",
       "  </tbody>\n",
       "</table>\n",
       "</div>"
      ],
      "text/plain": [
       "          testYear  installationYear\n",
       "count  1962.000000       1962.000000\n",
       "mean   2018.537207       1997.147299\n",
       "std       0.522704         14.305625\n",
       "min    2018.000000       1941.000000\n",
       "25%    2018.000000       1994.000000\n",
       "50%    2019.000000       2000.000000\n",
       "75%    2019.000000       2006.000000\n",
       "max    2020.000000       2019.000000"
      ]
     },
     "execution_count": 8,
     "metadata": {},
     "output_type": "execute_result"
    }
   ],
   "source": [
    "#descriptive statistics\n",
    "df.describe()"
   ]
  },
  {
   "cell_type": "code",
   "execution_count": 10,
   "metadata": {},
   "outputs": [
    {
     "data": {
      "text/plain": [
       "meterID             object\n",
       "testYear             int64\n",
       "installationYear     int64\n",
       "meterSize           object\n",
       "meterMake           object\n",
       "accuracy            object\n",
       "dtype: object"
      ]
     },
     "execution_count": 10,
     "metadata": {},
     "output_type": "execute_result"
    }
   ],
   "source": [
    "#data types  \n",
    "df.dtypes"
   ]
  },
  {
   "cell_type": "markdown",
   "metadata": {},
   "source": [
    "*Based on the initial describe results returning only 2 columns when I expected to see 4 (testYear, installationYear, meterSize & accuracy) I know that one of the first tasks needed will be to assign meterSize and accuracy to numerical column types. Dtypes confirms this.*"
   ]
  },
  {
   "cell_type": "code",
   "execution_count": null,
   "metadata": {},
   "outputs": [],
   "source": []
  }
 ],
 "metadata": {
  "kernelspec": {
   "display_name": "Python 3",
   "language": "python",
   "name": "python3"
  },
  "language_info": {
   "codemirror_mode": {
    "name": "ipython",
    "version": 3
   },
   "file_extension": ".py",
   "mimetype": "text/x-python",
   "name": "python",
   "nbconvert_exporter": "python",
   "pygments_lexer": "ipython3",
   "version": "3.8.3"
  },
  "toc": {
   "base_numbering": 1,
   "nav_menu": {},
   "number_sections": true,
   "sideBar": true,
   "skip_h1_title": false,
   "title_cell": "Table of Contents",
   "title_sidebar": "Contents",
   "toc_cell": false,
   "toc_position": {},
   "toc_section_display": true,
   "toc_window_display": false
  }
 },
 "nbformat": 4,
 "nbformat_minor": 4
}
